{
 "cells": [
  {
   "cell_type": "code",
   "execution_count": 1,
   "id": "f04c811d",
   "metadata": {},
   "outputs": [],
   "source": [
    "from tkinter import *\n",
    "from tkinter import ttk\n",
    "from googletrans import Translator, LANGUAGES\n"
   ]
  },
  {
   "cell_type": "code",
   "execution_count": 2,
   "id": "a86be330",
   "metadata": {},
   "outputs": [],
   "source": [
    "root = Tk()\n",
    "root.geometry('1100x320')\n",
    "root.resizable(0,0)\n",
    "#root.iconbitmap('logo simp.ico')\n",
    "root['bg']= 'skyblue'\n",
    "root.title('Language translator')\n",
    "Label(root, text=\"Language Translator\", font = \"Arial 20 bold\").pack()\n",
    "\n",
    "Label(root, text= \"Enter Text\", font= 'arial 13 bold',bg='white smoke').place(x=165,y=90)\n"
   ]
  },
  {
   "cell_type": "code",
   "execution_count": 3,
   "id": "3ee71a87",
   "metadata": {},
   "outputs": [
    {
     "data": {
      "text/plain": [
       "''"
      ]
     },
     "execution_count": 3,
     "metadata": {},
     "output_type": "execute_result"
    }
   ],
   "source": [
    "Input_text = Entry(root, width=60)\n",
    "Input_text.place(x=30,y=130)\n",
    "Input_text.get()\n"
   ]
  },
  {
   "cell_type": "code",
   "execution_count": 4,
   "id": "9dc5b2ce",
   "metadata": {},
   "outputs": [],
   "source": [
    "Label(root,text=\"Output\",font='arial 13 bold',bg='white smoke').place(x=780,y=90)\n",
    "Output_text = Text(root, font='arial 10', height = 5,wrap = WORD,padx=5,pady=5,width=50)\n",
    "Output_text.place(x=600,y=130)\n",
    "language = list(LANGUAGES.values())\n"
   ]
  },
  {
   "cell_type": "code",
   "execution_count": 5,
   "id": "dc0b420d",
   "metadata": {},
   "outputs": [],
   "source": [
    "dest_lang=ttk.Combobox(root,values= language,width=22)\n",
    "dest_lang.place(x=130,y=160)\n",
    "dest_lang.set('choose language')\n"
   ]
  },
  {
   "cell_type": "code",
   "execution_count": 6,
   "id": "b56455fd",
   "metadata": {},
   "outputs": [],
   "source": [
    "def Translate():\n",
    "    translator = Translator()\n",
    "    translated = translator.translate(text=Input_text.get(), dest=dest_lang.get())\n",
    "    Output_text.delete(1.0,END)\n",
    "    Output_text.insert(END, translated.text)\n"
   ]
  },
  {
   "cell_type": "code",
   "execution_count": 7,
   "id": "7873b3fa",
   "metadata": {},
   "outputs": [],
   "source": [
    "trans_btn= Button(root, text='Translate',font='arial 12 bold', pady =5, command= Translate,bg='orange',activebackground='green')\n",
    "trans_btn.place(x=445,y=100)\n"
   ]
  },
  {
   "cell_type": "code",
   "execution_count": 8,
   "id": "30ab6748",
   "metadata": {},
   "outputs": [
    {
     "name": "stderr",
     "output_type": "stream",
     "text": [
      "Exception in Tkinter callback\n",
      "Traceback (most recent call last):\n",
      "  File \"C:\\Users\\LENOVO\\anaconda3\\lib\\tkinter\\__init__.py\", line 1921, in __call__\n",
      "    return self.func(*args)\n",
      "  File \"C:\\Users\\LENOVO\\AppData\\Local\\Temp\\ipykernel_2636\\2506744518.py\", line 3, in Translate\n",
      "    translated = translator.translate(text=Input_text.get(), dest=dest_lang.get())\n",
      "  File \"C:\\Users\\LENOVO\\anaconda3\\lib\\site-packages\\googletrans\\client.py\", line 182, in translate\n",
      "    data = self._translate(text, dest, src, kwargs)\n",
      "  File \"C:\\Users\\LENOVO\\anaconda3\\lib\\site-packages\\googletrans\\client.py\", line 78, in _translate\n",
      "    token = self.token_acquirer.do(text)\n",
      "  File \"C:\\Users\\LENOVO\\anaconda3\\lib\\site-packages\\googletrans\\gtoken.py\", line 194, in do\n",
      "    self._update()\n",
      "  File \"C:\\Users\\LENOVO\\anaconda3\\lib\\site-packages\\googletrans\\gtoken.py\", line 62, in _update\n",
      "    code = self.RE_TKK.search(r.text).group(1).replace('var ', '')\n",
      "AttributeError: 'NoneType' object has no attribute 'group'\n"
     ]
    }
   ],
   "source": [
    "root.mainloop()"
   ]
  },
  {
   "cell_type": "code",
   "execution_count": null,
   "id": "a08a5a4d",
   "metadata": {},
   "outputs": [],
   "source": []
  },
  {
   "cell_type": "code",
   "execution_count": null,
   "id": "ff1988cb",
   "metadata": {},
   "outputs": [],
   "source": []
  }
 ],
 "metadata": {
  "kernelspec": {
   "display_name": "Python 3 (ipykernel)",
   "language": "python",
   "name": "python3"
  },
  "language_info": {
   "codemirror_mode": {
    "name": "ipython",
    "version": 3
   },
   "file_extension": ".py",
   "mimetype": "text/x-python",
   "name": "python",
   "nbconvert_exporter": "python",
   "pygments_lexer": "ipython3",
   "version": "3.10.9"
  }
 },
 "nbformat": 4,
 "nbformat_minor": 5
}
